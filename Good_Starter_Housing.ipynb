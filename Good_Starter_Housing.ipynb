{
  "nbformat": 4,
  "nbformat_minor": 0,
  "metadata": {
    "colab": {
      "provenance": [],
      "authorship_tag": "ABX9TyMleyX/tpWADDWM4zjoBZHg",
      "include_colab_link": true
    },
    "kernelspec": {
      "name": "python3",
      "display_name": "Python 3"
    },
    "language_info": {
      "name": "python"
    }
  },
  "cells": [
    {
      "cell_type": "markdown",
      "metadata": {
        "id": "view-in-github",
        "colab_type": "text"
      },
      "source": [
        "<a href=\"https://colab.research.google.com/github/CristianAlegreBustos/ML--Tree-Classification/blob/main/Good_Starter_Housing.ipynb\" target=\"_parent\"><img src=\"https://colab.research.google.com/assets/colab-badge.svg\" alt=\"Open In Colab\"/></a>"
      ]
    },
    {
      "cell_type": "markdown",
      "source": [
        "#House Price Prediction Analysis\n",
        "\n",
        "##Introduction\n",
        "\n",
        "Reddic Housing LLC is a company that prodives housing price estimates to development firms. Recently, due to market competition and inovation, the company has decided to use machine learning and artificial intelligence to remain competative and provide quality, accurate, and effective price estimates. It is important that the company ensures customers can be confident in the price estimates.  \n",
        "\n",
        "Using machine learning techniques like feature engineering, gradent boosted algorithms, and others, we have a model that can predict housing prices based on a number of features and it comes with a confidence metric that will satisfy the customers’ desires. We believe that this model can be used for house price evaluation and prediction in the market. We also believe that it is unecessary to adjust the predicted prices based on the quality of the area the house is located, as the model takes those things into account.\n",
        "\n",
        "##Methodology\n",
        "\n",
        "First, we examined the dataset to understand what the data looked like. We checked for strange values, explored how different features were related to price, and created new helpful features — for example, geo_cluster_cat to group homes by their location on the map.\n",
        "\n",
        "Then, we trained the model with Optuna. We identified the most important features for the model. We transformed the price using a logarithm (log), which helps the model handle very high prices better. We split the data into two groups: training and testing. Moreover, we used a method that ensures different areas (zip codes) are fairly represented in both groups. We also used a ML method called XGBoost, which is good at finding patterns in structured data. It builds many decision trees and combines them to make better.  \n",
        "\n",
        "To get the best results, we used a tool called Optuna to automatically find the best model settings (called hyperparameters). This included how many trees to build, how deep they can be, learning speed, and settings to avoid overfitting. The model was tested many times using cross-validation to find the best combination.\n",
        "\n",
        "Once the best model was ready, we used it to predict house prices on the test set. Since we used log(price) earlier, we had to convert the predictions back to normal prices using the exponential function. We measured how well the model did using these metrics: RMSE (Root Mean Squared Error), MAE (Mean Absolute Error), R² (Explained Variance). These results show the model works very well and explains most of the changes in price.\n",
        "\n",
        "In the future we can look at the errors grouped by zipcode and geo_cluster to see where the model makes bigger mistakes. This could help us improve the model later, maybe by training different models for different areas or adding more data.\n",
        "\n",
        "##Results\n",
        "\n",
        "The results we found based on the feature importances of the model was that 5 distinct features influenced the price of the property. The grade of the property, the location, the living area space, and if it was a waterfront property. The grade was easily the most important feature to look at for determining the price of the property.  \n",
        "\n",
        "The higher the grade, the higher the price on an exponential level. After this location played a big role in determining the price. We sorted the locations into geo clusters and provided a color coded map for reference on their location. After that we can say the more space you had the higher the value, as well as being a water front property made a noticiable impact on the cost.\n",
        "\n",
        "--- Training Set Metrics ---\n",
        "RMSE : 92,140\n",
        "MAE : 53,886\n",
        "R²: 0.935\n",
        "\n",
        "--- Test Set Metrics ---\n",
        "RMSE : 124,583\n",
        "MAE : 66,457\n",
        "R²: 0.897\n",
        "\n",
        "\n",
        "##Discussion Responses\n",
        "\n",
        "For this problem, we decided that this is a regression problem where we are predicting a continuous value. This led to our decision to use a gradient boosted regression model in order to predict the continuous price value for a home based on a set of features.\n",
        "\n",
        "We also decided that two confidence metrics would be useful in this case: root mean squared error and the r-squared value. The root mean squared error puts the performance of the model at the same scale and in the same units as the target (price in dollars) making it easy for an executive or customer to understand. Moreover, as we built and tested many models, we used the r-squared value to guage the predictive power, and make improvements.  \n",
        "\n",
        "When faced with the question of whether we should identify properties in low income areas and have the model lower those estimates to protect our insurance customers’ interests, we observed that our model already adjusted for those things based on the features that it used to predict the price. Moreover, we felt a little bit uncomfortable ethically about doing something like this.\n",
        "\n",
        "Lastly, we noticed that the features all have varying ranges and scales and we had to consider how to deal with that. After further analysis, we learned that the gradient boosted tree is not affected by large ranges on its input. We even tried to scale the inputs, and noticed extremely little to no improvement. Thus, we decided to give the model the data as is without scaling."
      ],
      "metadata": {
        "id": "e1t4s0ptnX61"
      }
    },
    {
      "cell_type": "code",
      "execution_count": 44,
      "metadata": {
        "colab": {
          "base_uri": "https://localhost:8080/"
        },
        "id": "pJKmljeSvzvU",
        "outputId": "cc7d9ff8-5790-4d2a-d1da-bd2f614c7bb8"
      },
      "outputs": [
        {
          "output_type": "stream",
          "name": "stdout",
          "text": [
            "Requirement already satisfied: scikit-learn==1.5.2 in /usr/local/lib/python3.11/dist-packages (1.5.2)\n",
            "Requirement already satisfied: numpy>=1.19.5 in /usr/local/lib/python3.11/dist-packages (from scikit-learn==1.5.2) (2.0.2)\n",
            "Requirement already satisfied: scipy>=1.6.0 in /usr/local/lib/python3.11/dist-packages (from scikit-learn==1.5.2) (1.15.3)\n",
            "Requirement already satisfied: joblib>=1.2.0 in /usr/local/lib/python3.11/dist-packages (from scikit-learn==1.5.2) (1.5.1)\n",
            "Requirement already satisfied: threadpoolctl>=3.1.0 in /usr/local/lib/python3.11/dist-packages (from scikit-learn==1.5.2) (3.6.0)\n",
            "Requirement already satisfied: optuna in /usr/local/lib/python3.11/dist-packages (4.4.0)\n",
            "Requirement already satisfied: alembic>=1.5.0 in /usr/local/lib/python3.11/dist-packages (from optuna) (1.16.2)\n",
            "Requirement already satisfied: colorlog in /usr/local/lib/python3.11/dist-packages (from optuna) (6.9.0)\n",
            "Requirement already satisfied: numpy in /usr/local/lib/python3.11/dist-packages (from optuna) (2.0.2)\n",
            "Requirement already satisfied: packaging>=20.0 in /usr/local/lib/python3.11/dist-packages (from optuna) (24.2)\n",
            "Requirement already satisfied: sqlalchemy>=1.4.2 in /usr/local/lib/python3.11/dist-packages (from optuna) (2.0.41)\n",
            "Requirement already satisfied: tqdm in /usr/local/lib/python3.11/dist-packages (from optuna) (4.67.1)\n",
            "Requirement already satisfied: PyYAML in /usr/local/lib/python3.11/dist-packages (from optuna) (6.0.2)\n",
            "Requirement already satisfied: Mako in /usr/lib/python3/dist-packages (from alembic>=1.5.0->optuna) (1.1.3)\n",
            "Requirement already satisfied: typing-extensions>=4.12 in /usr/local/lib/python3.11/dist-packages (from alembic>=1.5.0->optuna) (4.14.0)\n",
            "Requirement already satisfied: greenlet>=1 in /usr/local/lib/python3.11/dist-packages (from sqlalchemy>=1.4.2->optuna) (3.2.3)\n"
          ]
        }
      ],
      "source": [
        "!pip install scikit-learn==1.5.2\n",
        "!pip install optuna"
      ]
    },
    {
      "cell_type": "code",
      "source": [
        "# Import the libraries we need\n",
        "from xgboost import XGBRegressor\n",
        "from sklearn.model_selection import train_test_split\n",
        "import pandas as pd\n",
        "import numpy as np\n",
        "from sklearn.metrics import mean_squared_error\n",
        "from sklearn.model_selection import cross_val_score\n",
        "from sklearn.preprocessing  import LabelEncoder\n",
        "from sklearn.cluster import KMeans\n",
        "import matplotlib.pyplot as plt\n",
        "from sklearn.metrics import mean_squared_error, mean_absolute_error, r2_score"
      ],
      "metadata": {
        "id": "IrIiVGXDwJZv"
      },
      "execution_count": 45,
      "outputs": []
    },
    {
      "cell_type": "code",
      "source": [
        "housing = pd.read_csv('https://raw.githubusercontent.com/byui-cse/cse450-course/master/data/housing.csv')"
      ],
      "metadata": {
        "id": "SKgC5HPswRJl"
      },
      "execution_count": 46,
      "outputs": []
    },
    {
      "cell_type": "code",
      "source": [
        "# drop missign values\n",
        "housing=housing.dropna()"
      ],
      "metadata": {
        "id": "L0MqTOQ4zfH1"
      },
      "execution_count": 47,
      "outputs": []
    },
    {
      "cell_type": "code",
      "source": [
        "housing['price'].describe()"
      ],
      "metadata": {
        "colab": {
          "base_uri": "https://localhost:8080/",
          "height": 335
        },
        "id": "VXEBqw5rMRoC",
        "outputId": "e7c4efdb-9be3-48c5-b41d-68827657b597"
      },
      "execution_count": 48,
      "outputs": [
        {
          "output_type": "execute_result",
          "data": {
            "text/plain": [
              "count    2.000000e+04\n",
              "mean     5.394367e+05\n",
              "std      3.664334e+05\n",
              "min      7.500000e+04\n",
              "25%      3.220000e+05\n",
              "50%      4.500000e+05\n",
              "75%      6.416250e+05\n",
              "max      7.700000e+06\n",
              "Name: price, dtype: float64"
            ],
            "text/html": [
              "<div>\n",
              "<style scoped>\n",
              "    .dataframe tbody tr th:only-of-type {\n",
              "        vertical-align: middle;\n",
              "    }\n",
              "\n",
              "    .dataframe tbody tr th {\n",
              "        vertical-align: top;\n",
              "    }\n",
              "\n",
              "    .dataframe thead th {\n",
              "        text-align: right;\n",
              "    }\n",
              "</style>\n",
              "<table border=\"1\" class=\"dataframe\">\n",
              "  <thead>\n",
              "    <tr style=\"text-align: right;\">\n",
              "      <th></th>\n",
              "      <th>price</th>\n",
              "    </tr>\n",
              "  </thead>\n",
              "  <tbody>\n",
              "    <tr>\n",
              "      <th>count</th>\n",
              "      <td>2.000000e+04</td>\n",
              "    </tr>\n",
              "    <tr>\n",
              "      <th>mean</th>\n",
              "      <td>5.394367e+05</td>\n",
              "    </tr>\n",
              "    <tr>\n",
              "      <th>std</th>\n",
              "      <td>3.664334e+05</td>\n",
              "    </tr>\n",
              "    <tr>\n",
              "      <th>min</th>\n",
              "      <td>7.500000e+04</td>\n",
              "    </tr>\n",
              "    <tr>\n",
              "      <th>25%</th>\n",
              "      <td>3.220000e+05</td>\n",
              "    </tr>\n",
              "    <tr>\n",
              "      <th>50%</th>\n",
              "      <td>4.500000e+05</td>\n",
              "    </tr>\n",
              "    <tr>\n",
              "      <th>75%</th>\n",
              "      <td>6.416250e+05</td>\n",
              "    </tr>\n",
              "    <tr>\n",
              "      <th>max</th>\n",
              "      <td>7.700000e+06</td>\n",
              "    </tr>\n",
              "  </tbody>\n",
              "</table>\n",
              "</div><br><label><b>dtype:</b> float64</label>"
            ]
          },
          "metadata": {},
          "execution_count": 48
        }
      ]
    },
    {
      "cell_type": "code",
      "source": [
        "# EncoderZipcode\n",
        "encoder = LabelEncoder()\n",
        "housing['zipcode'] = encoder.fit_transform(housing[['zipcode']])\n",
        "\n",
        "# House_Age\n",
        "housing['house_age'] = 2025 - housing['yr_built']\n",
        "\n",
        "# Renovation indicator\n",
        "housing['was_renovated'] = (housing['yr_renovated'] > 0).astype(int)\n",
        "\n",
        "# Relación entre área habitable y tamaño del terreno\n",
        "# Relationship between living area and lot are\n",
        "housing['living_to_lot_ratio'] = housing['sqft_living'] / housing['sqft_lot']\n",
        "\n",
        "# Basement to living area ratio\n",
        "housing['basement_ratio'] = housing['sqft_basement'] / housing['sqft_living']\n",
        "housing['basement_ratio'] = housing['basement_ratio'].fillna(0)  # Manejo de división por cero\n",
        "\n",
        "# Average room size\n",
        "housing['avg_room_size'] = housing['sqft_living'] / housing['bedrooms']\n",
        "housing['avg_room_size'] = housing['avg_room_size'].replace([np.inf, -np.inf], np.nan).fillna(0)\n",
        "\n",
        "# Premium Zone Indicator\n",
        "housing['premium_zone'] = ((housing['waterfront'] == 1) | (housing['view'] >= 3)).astype(int)\n",
        "\n",
        "# Multi floor indicator\n",
        "housing['multi_floor'] = (housing['floors'] > 1).astype(int)\n",
        "\n",
        "# Converting the date to datetime format\n",
        "housing['date'] = pd.to_datetime(housing['date'])\n",
        "\n",
        "\n",
        "#Sale Month\n",
        "housing['sale_month'] = housing['date'].dt.month\n",
        "\n",
        "\n",
        "# Year of the last renovation\n",
        "housing['yrs_since_renov'] = housing['date'].dt.year - housing['yr_renovated']\n",
        "housing.loc[housing['yr_renovated'] == 0, 'yrs_since_renov'] = -1  # Marcamos las no renovadas\n",
        "\n",
        "\n",
        "# full vs half bathrooms\n",
        "housing['full_baths'] = np.floor(housing['bathrooms']).astype(int)\n",
        "housing['half_baths'] = ((housing['bathrooms'] % 1) >= 0.5).astype(int)\n",
        "\n",
        "\n",
        "# Geographic cluster based on coordinates\n",
        "km = KMeans(n_clusters=10, random_state=42)\n",
        "housing['geo_cluster'] = km.fit_predict(housing[['lat', 'long']])"
      ],
      "metadata": {
        "id": "qNzVug6s1EMX"
      },
      "execution_count": 49,
      "outputs": []
    },
    {
      "cell_type": "code",
      "source": [
        "#Selected Features\n",
        "selected_features = ['sqft_living','grade','sqft_above','sqft_living15','bathrooms','view','sqft_basement','lat','bedrooms','waterfront','floors','yr_renovated','sqft_lot','sqft_lot15','yr_built','condition','long','zipcode','geo_cluster',\n",
        "    'house_age',\n",
        "    'was_renovated',\n",
        "    'living_to_lot_ratio',\n",
        "    'basement_ratio',\n",
        "    'avg_room_size',\n",
        "    'premium_zone',\n",
        "    'multi_floor',\n",
        "    'sale_month',\n",
        "    'yrs_since_renov',\n",
        "    'full_baths',\n",
        "    'half_baths',\n",
        "                     ]"
      ],
      "metadata": {
        "id": "8nZX0Dv0RdBo"
      },
      "execution_count": 50,
      "outputs": []
    },
    {
      "cell_type": "markdown",
      "source": [
        "#Prediccion normal 'price'"
      ],
      "metadata": {
        "id": "BA70luCnReJR"
      }
    },
    {
      "cell_type": "code",
      "source": [
        "\n",
        "X = housing[selected_features] #\n",
        "\n",
        "\n",
        "y = housing['price']\n",
        "\n",
        "X_train, X_test, y_train, y_test = train_test_split(X, y, test_size=0.2, random_state=42)\n",
        "\n",
        "# Create the model and train it, use default hyperparameters for now\n",
        "model =  XGBRegressor( random_state=42)\n",
        "model.fit(X_train, y_train)\n",
        "\n",
        "# Get predictions for our test data\n",
        "predictions = model.predict(X_test)\n",
        "predictions\n",
        "# Compute the Root Mean Squared Error of the predictions\n",
        "from sklearn.metrics import root_mean_squared_error\n",
        "\n",
        "result = root_mean_squared_error(y_test, predictions)\n",
        "result"
      ],
      "metadata": {
        "id": "ymtIqwSowLmM",
        "colab": {
          "base_uri": "https://localhost:8080/"
        },
        "outputId": "d9a44557-14d5-4592-8d4b-032be06106ed"
      },
      "execution_count": 51,
      "outputs": [
        {
          "output_type": "execute_result",
          "data": {
            "text/plain": [
              "np.float64(135303.4372092671)"
            ]
          },
          "metadata": {},
          "execution_count": 51
        }
      ]
    },
    {
      "cell_type": "markdown",
      "source": [
        "#Prediccion  log(price)"
      ],
      "metadata": {
        "id": "d1-Ui_vBRmbO"
      }
    },
    {
      "cell_type": "code",
      "source": [
        "import optuna\n",
        "import numpy as np\n",
        "from xgboost import XGBRegressor\n",
        "from sklearn.model_selection import KFold, cross_val_score, train_test_split\n",
        "from sklearn.metrics import mean_squared_error\n",
        "import pandas as pd\n",
        "\n",
        "# 1. Prepare data and split into train/test sets\n",
        "X = housing[selected_features]\n",
        "y_log = np.log(housing['price'])\n",
        "\n",
        "X_train, X_test, y_train_log, y_test_log = train_test_split(X, y_log, test_size=0.2, random_state=42)\n",
        "\n",
        "def objective(trial):\n",
        "    # 2. Suggest hyperparameters\n",
        "    params = {\n",
        "        'n_estimators': trial.suggest_int('n_estimators', 200, 600, step=50), # Slightly increased max, good balance\n",
        "    'learning_rate': trial.suggest_float('learning_rate', 0.02, 0.15, log=True), # Broader range around previous best\n",
        "    'max_depth': trial.suggest_int('max_depth', 4, 8), # Allow slightly deeper trees\n",
        "    'min_child_weight': trial.suggest_int('min_child_weight', 5, 20), # A more flexible range\n",
        "    'gamma': trial.suggest_float('gamma', 0.1, 2.0, log=True), # Less aggressive lower bound for gamma\n",
        "    'subsample': trial.suggest_float('subsample', 0.7, 1.0), # Keep this range\n",
        "    'colsample_bytree': trial.suggest_float('colsample_bytree', 0.6, 1.0), # Keep this range\n",
        "    'reg_alpha': trial.suggest_float('reg_alpha', 0.1, 10.0, log=True), # Allow smaller alpha but still strong\n",
        "    'reg_lambda': trial.suggest_float('reg_lambda', 0.5, 10.0, log=True), # Allow smaller lambda but still strong\n",
        "    'random_state': 42,\n",
        "    'tree_method': 'hist',\n",
        "    'verbosity': 0\n",
        "    }\n",
        "\n",
        "    # 3. K-Fold cross-validation on log-scale using only the training data\n",
        "    kf = KFold(n_splits=10, shuffle=True, random_state=42)\n",
        "    model = XGBRegressor(**params)\n",
        "\n",
        "    # We'll do CV on the log-target of the training data, then convert back to price to compute RMSE:\n",
        "    rmses = []\n",
        "    for train_idx, valid_idx in kf.split(X_train):\n",
        "        X_tr, X_va = X_train.iloc[train_idx], X_train.iloc[valid_idx]\n",
        "        y_tr, y_va = y_train_log.iloc[train_idx], y_train_log.iloc[valid_idx]\n",
        "        model.fit(X_tr, y_tr)\n",
        "\n",
        "        # Predict log-price, invert log\n",
        "        log_preds = model.predict(X_va)\n",
        "        preds     = np.exp(log_preds)\n",
        "        true_vals = np.exp(y_va)\n",
        "\n",
        "        rmse = np.sqrt(mean_squared_error(true_vals, preds))\n",
        "        rmses.append(rmse)\n",
        "\n",
        "    # 4. Return the mean RMSE across folds\n",
        "    return float(np.mean(rmses))\n",
        "\n",
        "# 5. Run the study\n",
        "study = optuna.create_study(direction='minimize', sampler=optuna.samplers.TPESampler(seed=42))\n",
        "study.optimize(objective, n_trials=50, timeout=600)\n",
        "\n",
        "print(\"Best RMSE:\", study.best_value)\n",
        "print(\"Best params:\", study.best_params)\n",
        "\n",
        "# 6. Train final model on full training set using best_params\n",
        "best_model = XGBRegressor(**study.best_params)\n",
        "best_model.fit(X_train, y_train_log)\n",
        "\n",
        "# 7. Predict with log scale on the test set\n",
        "log_preds = best_model.predict(X_test)\n",
        "\n",
        "#    Convert log predictions back to original scale\n",
        "preds = np.exp(log_preds)\n",
        "\n",
        "# 8. Convert the real y_test (which is already in log scale) back to original scale\n",
        "y_test = np.exp(y_test_log)\n",
        "\n",
        "# 9. Compute metrics in the original scale\n",
        "rmse = np.sqrt(mean_squared_error(y_test, preds))\n",
        "mae  = mean_absolute_error(y_test, preds)\n",
        "r2   = r2_score(y_test, preds)\n",
        "\n",
        "print(f\"RMSE : {rmse:,.0f}\")\n",
        "print(f\"MAE : {mae:,.0f}\")\n",
        "print(f\"R²: {r2:.3f}\")"
      ],
      "metadata": {
        "id": "WjldUnEONL4u",
        "colab": {
          "base_uri": "https://localhost:8080/"
        },
        "collapsed": true,
        "outputId": "9533bebf-2853-4d2c-a45f-fdb3b8bd65e5"
      },
      "execution_count": 52,
      "outputs": [
        {
          "output_type": "stream",
          "name": "stderr",
          "text": [
            "[I 2025-06-28 17:58:28,880] A new study created in memory with name: no-name-5084c2dc-ef20-4d9a-859f-279dd7239d2f\n",
            "[I 2025-06-28 17:58:56,991] Trial 0 finished with value: 129641.94736116445 and parameters: {'n_estimators': 350, 'learning_rate': 0.1358198535217987, 'max_depth': 7, 'min_child_weight': 14, 'gamma': 0.1595823775294975, 'subsample': 0.7467983561008608, 'colsample_bytree': 0.6232334448672797, 'reg_alpha': 5.3994844097874335, 'reg_lambda': 3.027182927734624}. Best is trial 0 with value: 129641.94736116445.\n",
            "[I 2025-06-28 17:59:24,035] Trial 1 finished with value: 119459.1471802162 and parameters: {'n_estimators': 500, 'learning_rate': 0.020846957895078073, 'max_depth': 8, 'min_child_weight': 18, 'gamma': 0.18891200276189393, 'subsample': 0.7545474901621302, 'colsample_bytree': 0.6733618039413735, 'reg_alpha': 0.4059611610484306, 'reg_lambda': 2.4082072654535422}. Best is trial 1 with value: 119459.1471802162.\n",
            "[I 2025-06-28 17:59:38,857] Trial 2 finished with value: 127749.66807942376 and parameters: {'n_estimators': 350, 'learning_rate': 0.03596444270828742, 'max_depth': 7, 'min_child_weight': 7, 'gamma': 0.2399324290681272, 'subsample': 0.8099085529881075, 'colsample_bytree': 0.7824279936868144, 'reg_alpha': 3.7183641805732095, 'reg_lambda': 0.9093929525644107}. Best is trial 1 with value: 119459.1471802162.\n",
            "[I 2025-06-28 17:59:49,074] Trial 3 finished with value: 136510.21684667797 and parameters: {'n_estimators': 400, 'learning_rate': 0.06598254106850841, 'max_depth': 4, 'min_child_weight': 14, 'gamma': 0.1666698328606642, 'subsample': 0.7195154778955838, 'colsample_bytree': 0.9795542149013333, 'reg_alpha': 8.536189862866832, 'reg_lambda': 5.632733481673016}. Best is trial 1 with value: 119459.1471802162.\n",
            "[I 2025-06-28 18:00:07,889] Trial 4 finished with value: 134853.9854734083 and parameters: {'n_estimators': 300, 'learning_rate': 0.02435000636897718, 'max_depth': 7, 'min_child_weight': 12, 'gamma': 0.14413697528610403, 'subsample': 0.848553073033381, 'colsample_bytree': 0.6137554084460873, 'reg_alpha': 6.586289317583113, 'reg_lambda': 1.085551727188307}. Best is trial 1 with value: 119459.1471802162.\n",
            "[I 2025-06-28 18:00:24,304] Trial 5 finished with value: 134223.52734570063 and parameters: {'n_estimators': 450, 'learning_rate': 0.03747971533796248, 'max_depth': 6, 'min_child_weight': 13, 'gamma': 0.17398074711291722, 'subsample': 0.9908753883293675, 'colsample_bytree': 0.9100531293444458, 'reg_alpha': 7.56829206016762, 'reg_lambda': 7.297384471483422}. Best is trial 1 with value: 119459.1471802162.\n",
            "[I 2025-06-28 18:00:34,311] Trial 6 finished with value: 116489.75500024874 and parameters: {'n_estimators': 450, 'learning_rate': 0.12815230690684767, 'max_depth': 4, 'min_child_weight': 8, 'gamma': 0.1145096426832664, 'subsample': 0.7975990992289793, 'colsample_bytree': 0.7554709158757928, 'reg_alpha': 0.34889766548903667, 'reg_lambda': 5.986629236379358}. Best is trial 6 with value: 116489.75500024874.\n",
            "[I 2025-06-28 18:00:45,662] Trial 7 finished with value: 142055.36755494543 and parameters: {'n_estimators': 350, 'learning_rate': 0.035226127496776595, 'max_depth': 6, 'min_child_weight': 7, 'gamma': 1.1058146376563003, 'subsample': 0.7223651931039312, 'colsample_bytree': 0.9947547746402069, 'reg_alpha': 3.5033984911586877, 'reg_lambda': 0.90678654338917}. Best is trial 6 with value: 116489.75500024874.\n",
            "[I 2025-06-28 18:00:50,548] Trial 8 finished with value: 133419.79333020176 and parameters: {'n_estimators': 200, 'learning_rate': 0.10342099303484481, 'max_depth': 7, 'min_child_weight': 16, 'gamma': 1.0079659367870728, 'subsample': 0.7222133955202271, 'colsample_bytree': 0.7433862914177091, 'reg_alpha': 0.17050539260269293, 'reg_lambda': 6.635802485202448}. Best is trial 6 with value: 116489.75500024874.\n",
            "[I 2025-06-28 18:01:02,284] Trial 9 finished with value: 135034.98691646027 and parameters: {'n_estimators': 450, 'learning_rate': 0.03895704790019031, 'max_depth': 4, 'min_child_weight': 9, 'gamma': 0.2648946920736267, 'subsample': 0.9188818535014192, 'colsample_bytree': 0.8550229885420852, 'reg_alpha': 5.948746813219773, 'reg_lambda': 2.057480777345668}. Best is trial 6 with value: 116489.75500024874.\n",
            "[I 2025-06-28 18:01:13,058] Trial 10 finished with value: 127615.24379044636 and parameters: {'n_estimators': 600, 'learning_rate': 0.08015913629712171, 'max_depth': 5, 'min_child_weight': 5, 'gamma': 0.5443517167518555, 'subsample': 0.8085302698115486, 'colsample_bytree': 0.7070730754849486, 'reg_alpha': 0.6094046787183484, 'reg_lambda': 3.7090332169420988}. Best is trial 6 with value: 116489.75500024874.\n",
            "[I 2025-06-28 18:01:24,858] Trial 11 finished with value: 117864.15703306645 and parameters: {'n_estimators': 550, 'learning_rate': 0.14770876260683247, 'max_depth': 8, 'min_child_weight': 19, 'gamma': 0.10985638072890025, 'subsample': 0.7817239927929005, 'colsample_bytree': 0.6960266332554614, 'reg_alpha': 0.419088012990525, 'reg_lambda': 1.9798037206539547}. Best is trial 6 with value: 116489.75500024874.\n",
            "[I 2025-06-28 18:01:37,108] Trial 12 finished with value: 114996.64461225658 and parameters: {'n_estimators': 600, 'learning_rate': 0.1419067500542417, 'max_depth': 5, 'min_child_weight': 20, 'gamma': 0.10617790273943419, 'subsample': 0.7937866809962186, 'colsample_bytree': 0.8158480427211191, 'reg_alpha': 0.17462067813186458, 'reg_lambda': 1.5341676807705107}. Best is trial 12 with value: 114996.64461225658.\n",
            "[I 2025-06-28 18:01:50,094] Trial 13 finished with value: 116554.62689804348 and parameters: {'n_estimators': 600, 'learning_rate': 0.09977789890891657, 'max_depth': 5, 'min_child_weight': 10, 'gamma': 0.10076011659593329, 'subsample': 0.8749681461898982, 'colsample_bytree': 0.8278240418279271, 'reg_alpha': 0.13700113860621893, 'reg_lambda': 1.4623261911667567}. Best is trial 12 with value: 114996.64461225658.\n",
            "[I 2025-06-28 18:01:59,355] Trial 14 finished with value: 126063.17699316079 and parameters: {'n_estimators': 500, 'learning_rate': 0.11454601576707517, 'max_depth': 5, 'min_child_weight': 20, 'gamma': 0.4100040065108391, 'subsample': 0.8536992400150355, 'colsample_bytree': 0.869270498336379, 'reg_alpha': 0.21434460789703494, 'reg_lambda': 4.375194936310126}. Best is trial 12 with value: 114996.64461225658.\n",
            "[I 2025-06-28 18:02:08,016] Trial 15 finished with value: 130000.32242139033 and parameters: {'n_estimators': 550, 'learning_rate': 0.07587862907510533, 'max_depth': 4, 'min_child_weight': 17, 'gamma': 0.37984547548762293, 'subsample': 0.8105056897519511, 'colsample_bytree': 0.7856665984179806, 'reg_alpha': 1.6539406162826042, 'reg_lambda': 9.34163705358503}. Best is trial 12 with value: 114996.64461225658.\n",
            "[I 2025-06-28 18:02:16,018] Trial 16 finished with value: 131796.25158677957 and parameters: {'n_estimators': 200, 'learning_rate': 0.0587659022745975, 'max_depth': 5, 'min_child_weight': 11, 'gamma': 0.6588331932770164, 'subsample': 0.9197666946546578, 'colsample_bytree': 0.9085189792452871, 'reg_alpha': 1.1064891519722702, 'reg_lambda': 0.5201355737182535}. Best is trial 12 with value: 114996.64461225658.\n",
            "[I 2025-06-28 18:02:25,830] Trial 17 finished with value: 121996.72540785628 and parameters: {'n_estimators': 550, 'learning_rate': 0.1230135419315123, 'max_depth': 4, 'min_child_weight': 8, 'gamma': 0.2730428586309215, 'subsample': 0.7809233747946598, 'colsample_bytree': 0.7345302378805242, 'reg_alpha': 0.27366925065896813, 'reg_lambda': 1.5016906628367963}. Best is trial 12 with value: 114996.64461225658.\n",
            "[I 2025-06-28 18:02:37,329] Trial 18 finished with value: 118381.49887123793 and parameters: {'n_estimators': 450, 'learning_rate': 0.0880457637545651, 'max_depth': 5, 'min_child_weight': 5, 'gamma': 0.11336457429480916, 'subsample': 0.895160643275436, 'colsample_bytree': 0.8002523831291389, 'reg_alpha': 0.12869318400331972, 'reg_lambda': 0.6025529307263713}. Best is trial 12 with value: 114996.64461225658.\n",
            "[I 2025-06-28 18:02:44,529] Trial 19 finished with value: 131867.1247467021 and parameters: {'n_estimators': 300, 'learning_rate': 0.047473985526241845, 'max_depth': 6, 'min_child_weight': 15, 'gamma': 0.8132993407873329, 'subsample': 0.8338966025350107, 'colsample_bytree': 0.6560461260724552, 'reg_alpha': 0.6859748044625665, 'reg_lambda': 4.85032459631177}. Best is trial 12 with value: 114996.64461225658.\n",
            "[I 2025-06-28 18:02:53,021] Trial 20 finished with value: 138455.57647677365 and parameters: {'n_estimators': 500, 'learning_rate': 0.14810712101767357, 'max_depth': 4, 'min_child_weight': 11, 'gamma': 1.612462675670997, 'subsample': 0.7720235478621211, 'colsample_bytree': 0.7346732226209312, 'reg_alpha': 0.10549744050522111, 'reg_lambda': 3.3461010880138753}. Best is trial 12 with value: 114996.64461225658.\n",
            "[I 2025-06-28 18:03:05,909] Trial 21 finished with value: 116538.20479863169 and parameters: {'n_estimators': 600, 'learning_rate': 0.09715963739855413, 'max_depth': 5, 'min_child_weight': 10, 'gamma': 0.10007689715014115, 'subsample': 0.8841683266088383, 'colsample_bytree': 0.8255928646854265, 'reg_alpha': 0.2681815605183886, 'reg_lambda': 1.4498655864839023}. Best is trial 12 with value: 114996.64461225658.\n",
            "[I 2025-06-28 18:03:16,947] Trial 22 finished with value: 119446.71874064028 and parameters: {'n_estimators': 600, 'learning_rate': 0.11278735485866437, 'max_depth': 5, 'min_child_weight': 9, 'gamma': 0.13021504768365, 'subsample': 0.9553039651116838, 'colsample_bytree': 0.81883475797156, 'reg_alpha': 0.2958992145770895, 'reg_lambda': 1.4566832247643877}. Best is trial 12 with value: 114996.64461225658.\n",
            "[I 2025-06-28 18:03:27,843] Trial 23 finished with value: 121718.17295386684 and parameters: {'n_estimators': 550, 'learning_rate': 0.09303380706216681, 'max_depth': 5, 'min_child_weight': 8, 'gamma': 0.21503344711740882, 'subsample': 0.8786592760809666, 'colsample_bytree': 0.765836702637975, 'reg_alpha': 0.20591233059887287, 'reg_lambda': 2.502463258199297}. Best is trial 12 with value: 114996.64461225658.\n",
            "[I 2025-06-28 18:03:40,107] Trial 24 finished with value: 118364.44291834517 and parameters: {'n_estimators': 600, 'learning_rate': 0.1269904573036907, 'max_depth': 6, 'min_child_weight': 12, 'gamma': 0.12323282568461416, 'subsample': 0.831221977842376, 'colsample_bytree': 0.848430364632574, 'reg_alpha': 0.37581768892128264, 'reg_lambda': 1.1181262216078438}. Best is trial 12 with value: 114996.64461225658.\n",
            "[I 2025-06-28 18:03:52,570] Trial 25 finished with value: 117650.52126552146 and parameters: {'n_estimators': 500, 'learning_rate': 0.0711073913694113, 'max_depth': 4, 'min_child_weight': 6, 'gamma': 0.13450482626601976, 'subsample': 0.7942865777099137, 'colsample_bytree': 0.8885641320540368, 'reg_alpha': 0.6904285952609839, 'reg_lambda': 1.5987502776205635}. Best is trial 12 with value: 114996.64461225658.\n",
            "[I 2025-06-28 18:04:01,592] Trial 26 finished with value: 126199.78711341464 and parameters: {'n_estimators': 400, 'learning_rate': 0.10511005952691727, 'max_depth': 5, 'min_child_weight': 10, 'gamma': 0.3389196832565912, 'subsample': 0.7510839424797302, 'colsample_bytree': 0.8168514801545985, 'reg_alpha': 1.0902887562178192, 'reg_lambda': 0.6580721596362352}. Best is trial 12 with value: 114996.64461225658.\n",
            "[I 2025-06-28 18:04:12,335] Trial 27 finished with value: 117651.2135421697 and parameters: {'n_estimators': 550, 'learning_rate': 0.08782481494301037, 'max_depth': 4, 'min_child_weight': 9, 'gamma': 0.10009659523714472, 'subsample': 0.9125927666675557, 'colsample_bytree': 0.7614089973942375, 'reg_alpha': 0.26560982493034196, 'reg_lambda': 1.1505335569051072}. Best is trial 12 with value: 114996.64461225658.\n",
            "[I 2025-06-28 18:04:22,723] Trial 28 finished with value: 121107.96415184299 and parameters: {'n_estimators': 600, 'learning_rate': 0.12642725585915113, 'max_depth': 6, 'min_child_weight': 20, 'gamma': 0.20122032628969086, 'subsample': 0.8670391572044159, 'colsample_bytree': 0.9165711235483383, 'reg_alpha': 0.16748637617705137, 'reg_lambda': 1.7822771916844817}. Best is trial 12 with value: 114996.64461225658.\n",
            "[I 2025-06-28 18:04:30,019] Trial 29 finished with value: 121753.8832277745 and parameters: {'n_estimators': 250, 'learning_rate': 0.13513990622168887, 'max_depth': 5, 'min_child_weight': 14, 'gamma': 0.14616309245233988, 'subsample': 0.946357570911175, 'colsample_bytree': 0.8329994733240473, 'reg_alpha': 0.46301812733440056, 'reg_lambda': 2.723164680164255}. Best is trial 12 with value: 114996.64461225658.\n",
            "[I 2025-06-28 18:04:39,813] Trial 30 finished with value: 126628.04310524915 and parameters: {'n_estimators': 400, 'learning_rate': 0.052171238528349595, 'max_depth': 4, 'min_child_weight': 13, 'gamma': 0.330278845918963, 'subsample': 0.8217840090036657, 'colsample_bytree': 0.6421707360993424, 'reg_alpha': 1.7794229439574398, 'reg_lambda': 2.952228004700326}. Best is trial 12 with value: 114996.64461225658.\n",
            "[I 2025-06-28 18:04:52,245] Trial 31 finished with value: 118135.47813251961 and parameters: {'n_estimators': 600, 'learning_rate': 0.09892674208279566, 'max_depth': 5, 'min_child_weight': 10, 'gamma': 0.10700108233625112, 'subsample': 0.8933040469074142, 'colsample_bytree': 0.8046264741441295, 'reg_alpha': 0.10012499260038576, 'reg_lambda': 1.4017996593195017}. Best is trial 12 with value: 114996.64461225658.\n",
            "[I 2025-06-28 18:05:05,766] Trial 32 finished with value: 117335.25646781798 and parameters: {'n_estimators': 600, 'learning_rate': 0.11417780395187199, 'max_depth': 6, 'min_child_weight': 10, 'gamma': 0.10064689524293065, 'subsample': 0.850613817369306, 'colsample_bytree': 0.8765175620677021, 'reg_alpha': 0.14086101886315058, 'reg_lambda': 0.8160961263154279}. Best is trial 12 with value: 114996.64461225658.\n",
            "[I 2025-06-28 18:05:16,899] Trial 33 finished with value: 118954.92587675541 and parameters: {'n_estimators': 550, 'learning_rate': 0.1467269993860122, 'max_depth': 5, 'min_child_weight': 7, 'gamma': 0.15451093959791895, 'subsample': 0.7650648884102911, 'colsample_bytree': 0.8337829676497468, 'reg_alpha': 0.21208755661486534, 'reg_lambda': 1.2565487408024554}. Best is trial 12 with value: 114996.64461225658.\n",
            "[I 2025-06-28 18:05:28,230] Trial 34 finished with value: 120475.67960497891 and parameters: {'n_estimators': 500, 'learning_rate': 0.08597160812252262, 'max_depth': 5, 'min_child_weight': 11, 'gamma': 0.18294732040608677, 'subsample': 0.8707116873757781, 'colsample_bytree': 0.950421444463226, 'reg_alpha': 0.14224719677883957, 'reg_lambda': 2.2059581604686076}. Best is trial 12 with value: 114996.64461225658.\n",
            "[I 2025-06-28 18:05:42,168] Trial 35 finished with value: 118263.6417017231 and parameters: {'n_estimators': 600, 'learning_rate': 0.06459807452745231, 'max_depth': 4, 'min_child_weight': 8, 'gamma': 0.1314456859474693, 'subsample': 0.7968178726277072, 'colsample_bytree': 0.7853105060425728, 'reg_alpha': 0.3249499979151429, 'reg_lambda': 1.774064520316754}. Best is trial 12 with value: 114996.64461225658.\n",
            "[I 2025-06-28 18:05:52,543] Trial 36 finished with value: 121495.7045131 and parameters: {'n_estimators': 450, 'learning_rate': 0.10134672550264902, 'max_depth': 5, 'min_child_weight': 6, 'gamma': 0.16598798896315847, 'subsample': 0.8889393085990772, 'colsample_bytree': 0.7669699924693706, 'reg_alpha': 0.5174150529277931, 'reg_lambda': 0.939934007074238}. Best is trial 12 with value: 114996.64461225658.\n",
            "[I 2025-06-28 18:06:01,399] Trial 37 finished with value: 119250.53176271306 and parameters: {'n_estimators': 550, 'learning_rate': 0.13077082059311854, 'max_depth': 6, 'min_child_weight': 17, 'gamma': 0.22513636180260863, 'subsample': 0.7407854098178078, 'colsample_bytree': 0.7072684792477457, 'reg_alpha': 0.23484738589933718, 'reg_lambda': 0.7703154830474807}. Best is trial 12 with value: 114996.64461225658.\n",
            "[I 2025-06-28 18:06:11,394] Trial 38 finished with value: 118410.59938240508 and parameters: {'n_estimators': 300, 'learning_rate': 0.11767892134138226, 'max_depth': 7, 'min_child_weight': 12, 'gamma': 0.12481317093059585, 'subsample': 0.8383862690694426, 'colsample_bytree': 0.8313863085167894, 'reg_alpha': 0.17027564470355436, 'reg_lambda': 9.798688935140934}. Best is trial 12 with value: 114996.64461225658.\n",
            "[I 2025-06-28 18:06:24,128] Trial 39 finished with value: 117910.54809077254 and parameters: {'n_estimators': 500, 'learning_rate': 0.09527999070079256, 'max_depth': 7, 'min_child_weight': 15, 'gamma': 0.1556124812753351, 'subsample': 0.7017270958795421, 'colsample_bytree': 0.9409566193782146, 'reg_alpha': 0.333526320598357, 'reg_lambda': 1.3388679295770343}. Best is trial 12 with value: 114996.64461225658.\n",
            "[I 2025-06-28 18:06:35,531] Trial 40 finished with value: 123440.09789783256 and parameters: {'n_estimators': 350, 'learning_rate': 0.02902871229277912, 'max_depth': 4, 'min_child_weight': 9, 'gamma': 0.1937109248412761, 'subsample': 0.8625456637985425, 'colsample_bytree': 0.6005800047171014, 'reg_alpha': 0.12714763636536533, 'reg_lambda': 0.999203439982406}. Best is trial 12 with value: 114996.64461225658.\n",
            "[I 2025-06-28 18:06:48,853] Trial 41 finished with value: 117111.48609478617 and parameters: {'n_estimators': 600, 'learning_rate': 0.11050242646464484, 'max_depth': 6, 'min_child_weight': 10, 'gamma': 0.10097214477799273, 'subsample': 0.8482688786029592, 'colsample_bytree': 0.8772819965024009, 'reg_alpha': 0.14728943475613118, 'reg_lambda': 0.7569465721906555}. Best is trial 12 with value: 114996.64461225658.\n",
            "[I 2025-06-28 18:07:02,345] Trial 42 finished with value: 116091.37190507753 and parameters: {'n_estimators': 600, 'learning_rate': 0.10660094455475463, 'max_depth': 6, 'min_child_weight': 10, 'gamma': 0.11404078546686149, 'subsample': 0.8191732991633964, 'colsample_bytree': 0.8490477880306234, 'reg_alpha': 0.17681129544274587, 'reg_lambda': 0.7244819092365828}. Best is trial 12 with value: 114996.64461225658.\n",
            "[I 2025-06-28 18:07:20,880] Trial 43 finished with value: 117372.94094504746 and parameters: {'n_estimators': 600, 'learning_rate': 0.07552928310170975, 'max_depth': 8, 'min_child_weight': 11, 'gamma': 0.12013016568464296, 'subsample': 0.8188929758249623, 'colsample_bytree': 0.8408613331428619, 'reg_alpha': 0.18369588637318587, 'reg_lambda': 1.6662659876313402}. Best is trial 12 with value: 114996.64461225658.\n",
            "[I 2025-06-28 18:07:49,430] Trial 44 finished with value: 118705.68227843149 and parameters: {'n_estimators': 550, 'learning_rate': 0.020773188739268256, 'max_depth': 6, 'min_child_weight': 8, 'gamma': 0.13712911090757435, 'subsample': 0.7909247707878189, 'colsample_bytree': 0.8587445503700524, 'reg_alpha': 0.11358642858917518, 'reg_lambda': 6.314245840074514}. Best is trial 12 with value: 114996.64461225658.\n",
            "[I 2025-06-28 18:08:01,325] Trial 45 finished with value: 119615.13403315228 and parameters: {'n_estimators': 600, 'learning_rate': 0.14133823054291414, 'max_depth': 7, 'min_child_weight': 7, 'gamma': 0.17044427784970562, 'subsample': 0.8045836471876618, 'colsample_bytree': 0.8111962510056102, 'reg_alpha': 0.24576111794490443, 'reg_lambda': 2.0295493708895034}. Best is trial 12 with value: 114996.64461225658.\n",
            "[I 2025-06-28 18:08:14,921] Trial 46 finished with value: 116416.75699641995 and parameters: {'n_estimators': 550, 'learning_rate': 0.08062530143524974, 'max_depth': 5, 'min_child_weight': 13, 'gamma': 0.11466403421817238, 'subsample': 0.7383781086629951, 'colsample_bytree': 0.7778799914626268, 'reg_alpha': 0.3899020716719496, 'reg_lambda': 3.996954786944944}. Best is trial 12 with value: 114996.64461225658.\n",
            "[I 2025-06-28 18:08:27,058] Trial 47 finished with value: 122354.68152646188 and parameters: {'n_estimators': 550, 'learning_rate': 0.0809526981925962, 'max_depth': 7, 'min_child_weight': 19, 'gamma': 0.2606833516556641, 'subsample': 0.7318293394225397, 'colsample_bytree': 0.746951391333689, 'reg_alpha': 0.5374976421580038, 'reg_lambda': 8.306463906892747}. Best is trial 12 with value: 114996.64461225658.\n",
            "[I 2025-06-28 18:08:40,909] Trial 48 finished with value: 116740.7084342714 and parameters: {'n_estimators': 550, 'learning_rate': 0.06613041912339197, 'max_depth': 5, 'min_child_weight': 18, 'gamma': 0.11905261628435682, 'subsample': 0.7690122997061559, 'colsample_bytree': 0.7083861963620244, 'reg_alpha': 0.35461196161469893, 'reg_lambda': 4.241173843555523}. Best is trial 12 with value: 114996.64461225658.\n"
          ]
        },
        {
          "output_type": "stream",
          "name": "stdout",
          "text": [
            "Best RMSE: 114996.64461225658\n",
            "Best params: {'n_estimators': 600, 'learning_rate': 0.1419067500542417, 'max_depth': 5, 'min_child_weight': 20, 'gamma': 0.10617790273943419, 'subsample': 0.7937866809962186, 'colsample_bytree': 0.8158480427211191, 'reg_alpha': 0.17462067813186458, 'reg_lambda': 1.5341676807705107}\n",
            "RMSE : 124,583\n",
            "MAE : 66,457\n",
            "R²: 0.897\n"
          ]
        }
      ]
    },
    {
      "cell_type": "code",
      "source": [
        "# 1) Prepara X y y_log before split\n",
        "X = housing[selected_features]\n",
        "y_log = np.log(housing['price'])\n",
        "\n",
        "# 2) Split  train/test\n",
        "X_train, X_test, y_train_log, y_test_log = train_test_split(\n",
        "    X, y_log, test_size=0.2, random_state=42\n",
        ")\n",
        "\n",
        "# 3) Train the model with y_train_log\n",
        "model = XGBRegressor(random_state=42)\n",
        "model.fit(X_train, y_train_log)\n",
        "\n",
        "# 4) Predic log scale\n",
        "log_preds = model.predict(X_test)\n",
        "\n",
        "#    return the log in usd\n",
        "preds = np.exp(log_preds)\n",
        "\n",
        "# 5) Remade the real price of y_test\n",
        "y_test = np.exp(y_test_log)\n",
        "\n",
        "# Compute the Root Mean Squared Error of the predictions\n",
        "result = root_mean_squared_error(y_test , preds)\n",
        "result"
      ],
      "metadata": {
        "colab": {
          "base_uri": "https://localhost:8080/"
        },
        "id": "0k9QMdIjN6ZK",
        "outputId": "6f8a13cd-260b-45de-a61b-cc70ae56d0ab"
      },
      "execution_count": 53,
      "outputs": [
        {
          "output_type": "execute_result",
          "data": {
            "text/plain": [
              "np.float64(132125.29421754705)"
            ]
          },
          "metadata": {},
          "execution_count": 53
        }
      ]
    },
    {
      "cell_type": "code",
      "source": [
        "# prompt: evalua si esta overfitenado comparandoo las metricas de test con train\n",
        "\n",
        "# Get predictions for the training set\n",
        "train_log_preds = best_model.predict(X_train)\n",
        "\n",
        "# Convert training log predictions back to original scale\n",
        "train_preds = np.exp(train_log_preds)\n",
        "\n",
        "# Convert the real y_train (which is already in log scale) back to original scale\n",
        "y_train = np.exp(y_train_log)\n",
        "\n",
        "# Compute metrics on the training set\n",
        "train_rmse = np.sqrt(mean_squared_error(y_train, train_preds))\n",
        "train_mae  = mean_absolute_error(y_train, train_preds)\n",
        "train_r2   = r2_score(y_train, train_preds)\n",
        "\n",
        "print(\"\\n--- Training Set Metrics ---\")\n",
        "print(f\"RMSE : {train_rmse:,.0f}\")\n",
        "print(f\"MAE : {train_mae:,.0f}\")\n",
        "print(f\"R²: {train_r2:.3f}\")\n",
        "\n",
        "print(\"\\n--- Test Set Metrics ---\")\n",
        "print(f\"RMSE : {rmse:,.0f}\")\n",
        "print(f\"MAE : {mae:,.0f}\")\n",
        "print(f\"R²: {r2:.3f}\")\n",
        "\n",
        "# Compare the metrics\n",
        "print(\"\\n--- Overfitting Analysis ---\")\n",
        "if train_rmse < rmse:\n",
        "    print(\"The model might be overfitting. Training RMSE is lower than Test RMSE.\")\n",
        "elif train_rmse > rmse:\n",
        "     print(\"The model might be underfitting. Training RMSE is higher than Test RMSE.\")\n",
        "else:\n",
        "    print(\"Training and Test RMSE are similar, which is generally good.\")\n",
        "\n",
        "if train_r2 > r2:\n",
        "    print(\"The model might be overfitting. Training R-squared is higher than Test R-squared.\")\n",
        "elif train_r2 < r2:\n",
        "    print(\"The model might be underfitting. Training R-squared is lower than Test R-squared.\")\n",
        "else:\n",
        "    print(\"Training and Test R-squared are similar, which is generally good.\")\n",
        "\n",
        "# A significant difference between training and test metrics (e.g., train metrics being much better)\n",
        "# suggests overfitting. Similar metrics suggest a good generalization to unseen data."
      ],
      "metadata": {
        "colab": {
          "base_uri": "https://localhost:8080/"
        },
        "id": "fjMS9N5OM0Ax",
        "outputId": "b9508456-e317-4743-d1e3-c307dafe94be"
      },
      "execution_count": 54,
      "outputs": [
        {
          "output_type": "stream",
          "name": "stdout",
          "text": [
            "\n",
            "--- Training Set Metrics ---\n",
            "RMSE : 92,140\n",
            "MAE : 53,886\n",
            "R²: 0.935\n",
            "\n",
            "--- Test Set Metrics ---\n",
            "RMSE : 124,583\n",
            "MAE : 66,457\n",
            "R²: 0.897\n",
            "\n",
            "--- Overfitting Analysis ---\n",
            "The model might be overfitting. Training RMSE is lower than Test RMSE.\n",
            "The model might be overfitting. Training R-squared is higher than Test R-squared.\n"
          ]
        }
      ]
    },
    {
      "cell_type": "markdown",
      "source": [
        "Top 15 features reduce errors on tree"
      ],
      "metadata": {
        "id": "w8LLCRoqk5ru"
      }
    },
    {
      "cell_type": "code",
      "source": [
        "import pandas as pd\n",
        "import matplotlib.pyplot as plt\n",
        "\n",
        "# Extraer importancias\n",
        "importances = pd.Series(best_model.feature_importances_, index=X_train.columns)\n",
        "importances = importances.sort_values(ascending=False)\n",
        "\n",
        "# Mostrar las 15 top features\n",
        "print(\"Top 15 features por importancia:\\n\", importances.head(15))\n",
        "\n",
        "# Gráfico horizontal\n",
        "plt.figure(figsize=(8,6))\n",
        "importances.head(15).plot.barh()\n",
        "plt.gca().invert_yaxis()\n",
        "plt.title(\"Top 15 Features - XGBoost Feature Importances\")\n",
        "plt.xlabel(\"Importancia\")\n",
        "plt.tight_layout()\n",
        "plt.show()\n"
      ],
      "metadata": {
        "colab": {
          "base_uri": "https://localhost:8080/",
          "height": 902
        },
        "id": "dLlBvH1ek5CS",
        "outputId": "a88d7689-109c-4a21-eb76-34dee4ffb05c"
      },
      "execution_count": 55,
      "outputs": [
        {
          "output_type": "stream",
          "name": "stdout",
          "text": [
            "Top 15 features por importancia:\n",
            " grade            0.345088\n",
            "sqft_living      0.175673\n",
            "lat              0.105652\n",
            "sqft_above       0.046911\n",
            "premium_zone     0.045373\n",
            "sqft_living15    0.044734\n",
            "view             0.041711\n",
            "waterfront       0.027347\n",
            "bathrooms        0.021219\n",
            "sqft_basement    0.015133\n",
            "long             0.014055\n",
            "yr_built         0.013694\n",
            "geo_cluster      0.012633\n",
            "condition        0.010427\n",
            "sqft_lot15       0.009047\n",
            "dtype: float32\n"
          ]
        },
        {
          "output_type": "display_data",
          "data": {
            "text/plain": [
              "<Figure size 800x600 with 1 Axes>"
            ],
            "image/png": "[encoded data removed]"
          },
          "metadata": {}
        }
      ]
    },
    {
      "cell_type": "markdown",
      "source": [
        "#Chequeo de Sesgos por Grupo (“Fairness Check”)"
      ],
      "metadata": {
        "id": "4BvXEA6Dox--"
      }
    },
    {
      "cell_type": "code",
      "source": [
        "#1. Predicciones y valores reales en pesos\n",
        "log_preds = best_model.predict(X_test)\n",
        "preds    = np.exp(log_preds)\n",
        "y_true   = np.exp(y_test_log)\n",
        "\n",
        "# Residual = predicho - real\n",
        "residuals = preds - y_true"
      ],
      "metadata": {
        "id": "Ev-GPVm9owZw"
      },
      "execution_count": 56,
      "outputs": []
    },
    {
      "cell_type": "code",
      "source": [
        "#2 Asegúrate de tener ‘zipcode’ y ‘geo_cluster’ en X_test\n",
        "test_df = X_test.copy()\n",
        "test_df['price_true']  = y_true\n",
        "test_df['price_pred']  = preds\n",
        "test_df['residual']    = residuals"
      ],
      "metadata": {
        "id": "44548Ok2pIXA"
      },
      "execution_count": 57,
      "outputs": []
    },
    {
      "cell_type": "code",
      "source": [
        "#3 Por zipcode\n",
        "zip_stats = test_df.groupby('zipcode')['residual'] \\\n",
        "            .agg(['mean','median','std','count']) \\\n",
        "            .sort_values('mean')\n",
        "print(\"Error medio por zipcode:\\n\", zip_stats.head(10))\n",
        "\n",
        "#4 Por cluster geográfico\n",
        "cluster_stats = test_df.groupby('geo_cluster')['residual'] \\\n",
        "                 .agg(['mean','median','std','count']) \\\n",
        "                 .sort_values('mean')\n",
        "print(\"\\nError medio por geo_cluster:\\n\", cluster_stats.head(10))"
      ],
      "metadata": {
        "colab": {
          "base_uri": "https://localhost:8080/"
        },
        "id": "78uoSQyZpKG6",
        "outputId": "0f35774b-2739-49d1-c0e7-311eb011a85d"
      },
      "execution_count": 58,
      "outputs": [
        {
          "output_type": "stream",
          "name": "stdout",
          "text": [
            "Error medio por zipcode:\n",
            "                   mean         median            std  count\n",
            "zipcode                                                    \n",
            "24      -326202.656250 -328111.687500  153841.050348      6\n",
            "3       -111090.963294  -43571.937500  454450.312847     63\n",
            "25       -97575.720982  -86750.437500  185174.844315     56\n",
            "47       -67678.847222  -14124.625000  262241.919220     18\n",
            "41       -57407.416667  -24261.546875  155121.141086     18\n",
            "21       -38682.865461  -16633.187500  166374.672321     95\n",
            "60       -36971.346311  -19661.812500   84191.419085     61\n",
            "5        -35703.455556   -8939.500000  291114.985496     90\n",
            "7        -30719.737723    3030.656250  186342.928848     56\n",
            "63       -29379.270000  -23226.062500   88940.746796     50\n",
            "\n",
            "Error medio por geo_cluster:\n",
            "                      mean       median            std  count\n",
            "geo_cluster                                                 \n",
            "0           -26174.195975 -6224.546875  203884.537704    472\n",
            "6           -21971.337992 -7268.953125  153184.493730    502\n",
            "7           -17021.117166 -4053.812500  127596.547108    367\n",
            "8           -10925.421028 -5021.343750  105606.197389    166\n",
            "4            -7668.236229 -1609.593750  126905.601359    885\n",
            "1            -6702.577106 -3558.046875   51317.662337    230\n",
            "2            -2357.793203 -2460.500000   84579.737126    668\n",
            "9             1018.215475  -288.000000   40287.864352    291\n",
            "3             1035.427841 -1995.437500   72295.846332    110\n",
            "5             1406.816141 -1454.937500   70687.740152    309\n"
          ]
        }
      ]
    },
    {
      "cell_type": "code",
      "source": [
        "#4 Boxplot de residuales por zipcode (ten cuidado si hay muchos códigos)\n",
        "plt.figure(figsize=(240,128))\n",
        "test_df.boxplot(column='residual', by='zipcode', rot=90)\n",
        "plt.title(\"Distribución de residuales por ZIP code\")\n",
        "plt.suptitle(\"\")\n",
        "plt.ylabel(\"Residuo (pred - real)\")\n",
        "plt.show()"
      ],
      "metadata": {
        "colab": {
          "base_uri": "https://localhost:8080/",
          "height": 483
        },
        "id": "4Qv2QLwTpTf1",
        "outputId": "7bc7483e-3ea5-4912-c09e-085af957913d"
      },
      "execution_count": 59,
      "outputs": [
        {
          "output_type": "display_data",
          "data": {
            "text/plain": [
              "<Figure size 24000x12800 with 0 Axes>"
            ]
          },
          "metadata": {}
        },
        {
          "output_type": "display_data",
          "data": {
            "text/plain": [
              "<Figure size 640x480 with 1 Axes>"
            ],
            "image/png": "[encoded data removed]"
          },
          "metadata": {}
        }
      ]
    }
  ]
}